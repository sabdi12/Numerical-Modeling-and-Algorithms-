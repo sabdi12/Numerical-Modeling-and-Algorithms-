{
 "cells": [
  {
   "cell_type": "code",
   "execution_count": null,
   "metadata": {},
   "outputs": [],
   "source": [
    "import numpy as np\n",
    "import matplotlib.pyplot as plt\n",
    "\n",
    "N_0 = 1e5\n",
    "r = 1e-2\n",
    "dt = 1\n",
    "N_t = 100 # number of timesteps\n",
    "\n",
    "\n",
    "def pop_growth(N_0,r,dt,N_t):\n",
    "    # Create meshpoints\n",
    "    t = np.arange(0, N_t*dt, dt)\n",
    "    \n",
    "    # initialize solution vector\n",
    "    N = np.zeros(N_t)\n",
    "    N[0] = N_0\n",
    "    \n",
    "    for ind,n in enumerate(t[:-1]):\n",
    "        N[ind+1] = N[ind]*(dt*r+1)\n",
    "\n",
    "    N_exact = N_0*np.exp(r*t)\n",
    "    plt.figure(figsize=[10,10])\n",
    "    plt.plot(t,N,'b*', label = 'numerical approx')\n",
    "    plt.plot(t,N_exact,'r', label='exact')\n",
    "    plt.legend()\n",
    "    plt.show()\n",
    "    return (t,N,N_exact)\n",
    "    \n",
    "(t,N,N_exact)=pop_growth(N_0,r,dt,N_t)"
   ]
  },
  {
   "cell_type": "code",
   "execution_count": null,
   "metadata": {},
   "outputs": [],
   "source": [
    "N_0 = 1e5\n",
    "r = 1e-2\n",
    "dt = .1\n",
    "N_t = 1000\n",
    "(t,N,N_exact)=pop_growth(N_0,r,dt,N_t)pop_growth(N_0,r,dt,N_t)\n"
   ]
  },
  {
   "cell_type": "code",
   "execution_count": null,
   "metadata": {},
   "outputs": [],
   "source": [
    "N_0 = 1e5\n",
    "r = 1e-2\n",
    "dt = 1\n",
    "N_t = 1000\n",
    "(t,N,N_exact)=pop_growth(N_0,r,dt,N_t)"
   ]
  },
  {
   "cell_type": "code",
   "execution_count": null,
   "metadata": {},
   "outputs": [],
   "source": []
  }
 ],
 "metadata": {
  "kernelspec": {
   "display_name": "Python 3",
   "language": "python",
   "name": "python3"
  },
  "language_info": {
   "codemirror_mode": {
    "name": "ipython",
    "version": 3
   },
   "file_extension": ".py",
   "mimetype": "text/x-python",
   "name": "python",
   "nbconvert_exporter": "python",
   "pygments_lexer": "ipython3",
   "version": "3.6.9"
  }
 },
 "nbformat": 4,
 "nbformat_minor": 4
}
